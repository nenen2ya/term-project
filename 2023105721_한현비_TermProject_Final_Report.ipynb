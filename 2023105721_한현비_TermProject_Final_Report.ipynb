{
 "cells": [
  {
   "cell_type": "markdown",
   "id": "7ca068f5",
   "metadata": {},
   "source": [
    "# Term-Project 최종 보고서"
   ]
  },
  {
   "cell_type": "markdown",
   "id": "4fe62b33",
   "metadata": {},
   "source": [
    "### 웹/파이썬 프로그래밍(SWCON104)"
   ]
  },
  {
   "cell_type": "markdown",
   "id": "8c890a91",
   "metadata": {},
   "source": [
    "### 소프트웨어융합대학 컴퓨터공학과\n",
    "### 2023105721 한현비"
   ]
  },
  {
   "cell_type": "markdown",
   "id": "1cc5d410",
   "metadata": {},
   "source": [
    "## 1. 주제 및 주제 선정 이유"
   ]
  },
  {
   "cell_type": "markdown",
   "id": "d12bb4ce",
   "metadata": {},
   "source": [
    "### 배달어플 사용 추이 및 요식업에서 배달이 차지하는 수준과 영향력"
   ]
  },
  {
   "cell_type": "markdown",
   "id": "ebd1f36a",
   "metadata": {},
   "source": [
    "대학 생활을 하다보면, 많은 학생들이 거의 매일 배달음식으로 끼니를 때우고 있다는 사실을 목격할 수 있습니다. 또한 배달에 대한 토픽들은 '배달료 상승' 등과 같은 식으로 우리에게 매우 익숙하기도 합니다. 나는 이렇게 우리 주변에 익숙하게 자리잡은 '배달'이라는 문화는 언제부터 본격적으로 시장에 들어오게 되었는지, 주요 고객층은 누구인지, 배달 어플이 사회(코로나, 1인가구 등)와 어떤 연관이 있는지 궁금하여 이 주제를 선정하게 되었습니다."
   ]
  },
  {
   "cell_type": "markdown",
   "id": "6ad3b2ad",
   "metadata": {},
   "source": [
    "## 2. 가설 정의"
   ]
  },
  {
   "cell_type": "markdown",
   "id": "fcb3a895",
   "metadata": {},
   "source": [
    "### 1) 코로나 사태 이후 배달 사용량이 급증했을 것이다."
   ]
  },
  {
   "cell_type": "markdown",
   "id": "c0df2a18",
   "metadata": {},
   "source": [
    " 코로나 사태 이후 외출하여 사람을 만나는 일이 줄어들고, 자택근무 등 집에서 보내는 시간이 현저히 늘어났습니다. 따라서 외식에 대한 수요가 일부 배달어플로 유입되었을 것이라 생각됩니다.또한 코로나 사태가 완화된 후에도 이미 배달 어플의 편리함을 맛보고 배달료에 무뎌진 사람들은 쉽사리 그 편리함을 잃지 않으려 할 것이라고 생각했기 때문입니다."
   ]
  },
  {
   "cell_type": "markdown",
   "id": "4694c0dc",
   "metadata": {},
   "source": [
    "### 2) 평일보다는 주말에 사용량이 더 많을 것이다."
   ]
  },
  {
   "cell_type": "markdown",
   "id": "97688ab5",
   "metadata": {},
   "source": [
    "학교를 다니거나 직장을 다니는 등, 사회생활을 하다보면 다른 사람들과 음식점에서 밥을 사먹거나, 귀가시에 포장하여 집에 들고가는 경우가 많습니다. 반면 집에있는 경우 오히려 배달을 시키는 경우가 더 많다고 생각합니다. 따라서 대부분의 사람들이 밖에서 활동하는평일보다 집에서 쉬는 주말에 배달 이용량이 더 많을 것이라 생각됩니다."
   ]
  },
  {
   "cell_type": "markdown",
   "id": "bbfd0dd8",
   "metadata": {},
   "source": [
    "### 3) 배달 사용량은 날씨에 영향을 받을 것이다."
   ]
  },
  {
   "cell_type": "markdown",
   "id": "6f0784c7",
   "metadata": {},
   "source": [
    "비가 오는 날에는 포장을 하러가는 사람과 장을 보러가는 사람 모두 줄어들 것이라 생각됩니다. 교통도 악화되고 한 손이 움직임이 제한된 상태로 나머지 한 손에도 짐을 들고 오는 것이 힘들기 때문입니다. 따라서 비가 오는 날에는 배달음식을 시켜먹는 사람이 늘어날 것이라고 생각했습니다."
   ]
  },
  {
   "cell_type": "markdown",
   "id": "2227907f",
   "metadata": {},
   "source": [
    "## 3. 데이터 획득 및 가공"
   ]
  },
  {
   "cell_type": "markdown",
   "id": "135717a2",
   "metadata": {},
   "source": [
    "### 1) 온라인상에서 음식서비스의 거래액 데이터 수집\n",
    "시간에 따른 거래 규모의 변화를 알아보기 위해서입니다."
   ]
  },
  {
   "cell_type": "markdown",
   "id": "e7175f7b",
   "metadata": {},
   "source": [
    "해당 데이터들은 csv형태로 다운되며, 다음은 데이터를 불러오는 코드입니다."
   ]
  },
  {
   "cell_type": "code",
   "execution_count": 64,
   "id": "24635cb8",
   "metadata": {},
   "outputs": [],
   "source": [
    "import pandas as pd\n",
    "\n",
    "pd1y = pd.read_csv(\"(년도별)온라인쇼핑몰_판매매체별_상품군별거래액_20230607210345.csv\", encoding='cp949')\n",
    "\n",
    "\n",
    "pd1q = pd.read_csv(\"(분기별)온라인쇼핑몰_판매매체별_상품군별거래액_20230611190503.csv\", encoding='cp949')"
   ]
  },
  {
   "cell_type": "code",
   "execution_count": 65,
   "id": "d6fda755",
   "metadata": {
    "scrolled": true
   },
   "outputs": [
    {
     "data": {
      "text/html": [
       "<div>\n",
       "<style scoped>\n",
       "    .dataframe tbody tr th:only-of-type {\n",
       "        vertical-align: middle;\n",
       "    }\n",
       "\n",
       "    .dataframe tbody tr th {\n",
       "        vertical-align: top;\n",
       "    }\n",
       "\n",
       "    .dataframe thead th {\n",
       "        text-align: right;\n",
       "    }\n",
       "</style>\n",
       "<table border=\"1\" class=\"dataframe\">\n",
       "  <thead>\n",
       "    <tr style=\"text-align: right;\">\n",
       "      <th></th>\n",
       "      <th>상품군별(1)</th>\n",
       "      <th>판매매체별(1)</th>\n",
       "      <th>2017</th>\n",
       "      <th>2018</th>\n",
       "      <th>2019</th>\n",
       "      <th>2020</th>\n",
       "      <th>2021</th>\n",
       "      <th>2022</th>\n",
       "    </tr>\n",
       "  </thead>\n",
       "  <tbody>\n",
       "    <tr>\n",
       "      <th>0</th>\n",
       "      <td>음식서비스</td>\n",
       "      <td>계</td>\n",
       "      <td>2732568</td>\n",
       "      <td>5262777</td>\n",
       "      <td>9735362</td>\n",
       "      <td>17337092</td>\n",
       "      <td>26159657</td>\n",
       "      <td>26593973</td>\n",
       "    </tr>\n",
       "    <tr>\n",
       "      <th>1</th>\n",
       "      <td>음식서비스</td>\n",
       "      <td>인터넷쇼핑</td>\n",
       "      <td>378319</td>\n",
       "      <td>489773</td>\n",
       "      <td>666029</td>\n",
       "      <td>900453</td>\n",
       "      <td>682496</td>\n",
       "      <td>529173</td>\n",
       "    </tr>\n",
       "    <tr>\n",
       "      <th>2</th>\n",
       "      <td>음식서비스</td>\n",
       "      <td>모바일쇼핑</td>\n",
       "      <td>2354254</td>\n",
       "      <td>4773004</td>\n",
       "      <td>9069334</td>\n",
       "      <td>16436639</td>\n",
       "      <td>25477161</td>\n",
       "      <td>26064800</td>\n",
       "    </tr>\n",
       "  </tbody>\n",
       "</table>\n",
       "</div>"
      ],
      "text/plain": [
       "  상품군별(1) 판매매체별(1)     2017     2018     2019      2020      2021      2022\n",
       "0   음식서비스        계  2732568  5262777  9735362  17337092  26159657  26593973\n",
       "1   음식서비스    인터넷쇼핑   378319   489773   666029    900453    682496    529173\n",
       "2   음식서비스    모바일쇼핑  2354254  4773004  9069334  16436639  25477161  26064800"
      ]
     },
     "execution_count": 65,
     "metadata": {},
     "output_type": "execute_result"
    }
   ],
   "source": [
    "pd1y"
   ]
  },
  {
   "cell_type": "code",
   "execution_count": 66,
   "id": "61e1ee8d",
   "metadata": {},
   "outputs": [
    {
     "data": {
      "text/html": [
       "<div>\n",
       "<style scoped>\n",
       "    .dataframe tbody tr th:only-of-type {\n",
       "        vertical-align: middle;\n",
       "    }\n",
       "\n",
       "    .dataframe tbody tr th {\n",
       "        vertical-align: top;\n",
       "    }\n",
       "\n",
       "    .dataframe thead th {\n",
       "        text-align: right;\n",
       "    }\n",
       "</style>\n",
       "<table border=\"1\" class=\"dataframe\">\n",
       "  <thead>\n",
       "    <tr style=\"text-align: right;\">\n",
       "      <th></th>\n",
       "      <th>상품군별(1)</th>\n",
       "      <th>판매매체별(1)</th>\n",
       "      <th>2019.3/4</th>\n",
       "      <th>2019.4/4</th>\n",
       "      <th>2020.1/4</th>\n",
       "      <th>2020.2/4</th>\n",
       "      <th>2020.3/4</th>\n",
       "      <th>2020.4/4</th>\n",
       "      <th>2021.1/4</th>\n",
       "      <th>2021.2/4</th>\n",
       "      <th>2021.3/4</th>\n",
       "      <th>2021.4/4</th>\n",
       "      <th>2022.1/4</th>\n",
       "      <th>2022.2/4</th>\n",
       "      <th>2022.3/4</th>\n",
       "      <th>2022.4/4</th>\n",
       "      <th>2023.1/4 p)</th>\n",
       "    </tr>\n",
       "  </thead>\n",
       "  <tbody>\n",
       "    <tr>\n",
       "      <th>0</th>\n",
       "      <td>음식서비스</td>\n",
       "      <td>계</td>\n",
       "      <td>2600812</td>\n",
       "      <td>2999989</td>\n",
       "      <td>3451096</td>\n",
       "      <td>3837303</td>\n",
       "      <td>4660427</td>\n",
       "      <td>5388266</td>\n",
       "      <td>5906523</td>\n",
       "      <td>6218025</td>\n",
       "      <td>7105007</td>\n",
       "      <td>6930102</td>\n",
       "      <td>7134340</td>\n",
       "      <td>6369509</td>\n",
       "      <td>6576104</td>\n",
       "      <td>6514020</td>\n",
       "      <td>6370235</td>\n",
       "    </tr>\n",
       "    <tr>\n",
       "      <th>1</th>\n",
       "      <td>음식서비스</td>\n",
       "      <td>인터넷쇼핑</td>\n",
       "      <td>170225</td>\n",
       "      <td>187886</td>\n",
       "      <td>208074</td>\n",
       "      <td>234341</td>\n",
       "      <td>232218</td>\n",
       "      <td>225820</td>\n",
       "      <td>187489</td>\n",
       "      <td>162909</td>\n",
       "      <td>176914</td>\n",
       "      <td>155184</td>\n",
       "      <td>152199</td>\n",
       "      <td>131526</td>\n",
       "      <td>126087</td>\n",
       "      <td>119361</td>\n",
       "      <td>114448</td>\n",
       "    </tr>\n",
       "    <tr>\n",
       "      <th>2</th>\n",
       "      <td>음식서비스</td>\n",
       "      <td>모바일쇼핑</td>\n",
       "      <td>2430588</td>\n",
       "      <td>2812104</td>\n",
       "      <td>3243022</td>\n",
       "      <td>3602962</td>\n",
       "      <td>4428209</td>\n",
       "      <td>5162446</td>\n",
       "      <td>5719034</td>\n",
       "      <td>6055116</td>\n",
       "      <td>6928093</td>\n",
       "      <td>6774918</td>\n",
       "      <td>6982141</td>\n",
       "      <td>6237983</td>\n",
       "      <td>6450017</td>\n",
       "      <td>6394659</td>\n",
       "      <td>6255787</td>\n",
       "    </tr>\n",
       "  </tbody>\n",
       "</table>\n",
       "</div>"
      ],
      "text/plain": [
       "  상품군별(1) 판매매체별(1)  2019.3/4  2019.4/4  2020.1/4  2020.2/4  2020.3/4  \\\n",
       "0   음식서비스        계   2600812   2999989   3451096   3837303   4660427   \n",
       "1   음식서비스    인터넷쇼핑    170225    187886    208074    234341    232218   \n",
       "2   음식서비스    모바일쇼핑   2430588   2812104   3243022   3602962   4428209   \n",
       "\n",
       "   2020.4/4  2021.1/4  2021.2/4  2021.3/4  2021.4/4  2022.1/4  2022.2/4  \\\n",
       "0   5388266   5906523   6218025   7105007   6930102   7134340   6369509   \n",
       "1    225820    187489    162909    176914    155184    152199    131526   \n",
       "2   5162446   5719034   6055116   6928093   6774918   6982141   6237983   \n",
       "\n",
       "   2022.3/4  2022.4/4  2023.1/4 p)  \n",
       "0   6576104   6514020      6370235  \n",
       "1    126087    119361       114448  \n",
       "2   6450017   6394659      6255787  "
      ]
     },
     "execution_count": 66,
     "metadata": {},
     "output_type": "execute_result"
    }
   ],
   "source": [
    "pd1q"
   ]
  },
  {
   "cell_type": "markdown",
   "id": "c8a3af6f",
   "metadata": {},
   "source": [
    "자료를 후에 사용하기 편하게 만들어주었습니다.\n",
    "행렬에서 행과 열을 바꾸고 필요없는 부분을 잘라낸 뒤 다시 항목별로 이름을 붙이는 코드입니다."
   ]
  },
  {
   "cell_type": "code",
   "execution_count": 67,
   "id": "5dcdba0c",
   "metadata": {},
   "outputs": [
    {
     "data": {
      "text/html": [
       "<div>\n",
       "<style scoped>\n",
       "    .dataframe tbody tr th:only-of-type {\n",
       "        vertical-align: middle;\n",
       "    }\n",
       "\n",
       "    .dataframe tbody tr th {\n",
       "        vertical-align: top;\n",
       "    }\n",
       "\n",
       "    .dataframe thead th {\n",
       "        text-align: right;\n",
       "    }\n",
       "</style>\n",
       "<table border=\"1\" class=\"dataframe\">\n",
       "  <thead>\n",
       "    <tr style=\"text-align: right;\">\n",
       "      <th></th>\n",
       "      <th>계</th>\n",
       "      <th>인터넷쇼핑</th>\n",
       "      <th>모바일쇼핑</th>\n",
       "    </tr>\n",
       "  </thead>\n",
       "  <tbody>\n",
       "    <tr>\n",
       "      <th>2017</th>\n",
       "      <td>2732568</td>\n",
       "      <td>378319</td>\n",
       "      <td>2354254</td>\n",
       "    </tr>\n",
       "    <tr>\n",
       "      <th>2018</th>\n",
       "      <td>5262777</td>\n",
       "      <td>489773</td>\n",
       "      <td>4773004</td>\n",
       "    </tr>\n",
       "    <tr>\n",
       "      <th>2019</th>\n",
       "      <td>9735362</td>\n",
       "      <td>666029</td>\n",
       "      <td>9069334</td>\n",
       "    </tr>\n",
       "    <tr>\n",
       "      <th>2020</th>\n",
       "      <td>17337092</td>\n",
       "      <td>900453</td>\n",
       "      <td>16436639</td>\n",
       "    </tr>\n",
       "    <tr>\n",
       "      <th>2021</th>\n",
       "      <td>26159657</td>\n",
       "      <td>682496</td>\n",
       "      <td>25477161</td>\n",
       "    </tr>\n",
       "    <tr>\n",
       "      <th>2022</th>\n",
       "      <td>26593973</td>\n",
       "      <td>529173</td>\n",
       "      <td>26064800</td>\n",
       "    </tr>\n",
       "  </tbody>\n",
       "</table>\n",
       "</div>"
      ],
      "text/plain": [
       "             계   인터넷쇼핑     모바일쇼핑\n",
       "2017   2732568  378319   2354254\n",
       "2018   5262777  489773   4773004\n",
       "2019   9735362  666029   9069334\n",
       "2020  17337092  900453  16436639\n",
       "2021  26159657  682496  25477161\n",
       "2022  26593973  529173  26064800"
      ]
     },
     "execution_count": 67,
     "metadata": {},
     "output_type": "execute_result"
    }
   ],
   "source": [
    "pd1y_transpose = pd1y.T.iloc[2:,:]\n",
    "pd1y_transpose.columns = [\"계\", \"인터넷쇼핑\", \"모바일쇼핑\"]\n",
    "pd1y_transpose"
   ]
  },
  {
   "cell_type": "code",
   "execution_count": 68,
   "id": "6327942a",
   "metadata": {},
   "outputs": [
    {
     "data": {
      "text/html": [
       "<div>\n",
       "<style scoped>\n",
       "    .dataframe tbody tr th:only-of-type {\n",
       "        vertical-align: middle;\n",
       "    }\n",
       "\n",
       "    .dataframe tbody tr th {\n",
       "        vertical-align: top;\n",
       "    }\n",
       "\n",
       "    .dataframe thead th {\n",
       "        text-align: right;\n",
       "    }\n",
       "</style>\n",
       "<table border=\"1\" class=\"dataframe\">\n",
       "  <thead>\n",
       "    <tr style=\"text-align: right;\">\n",
       "      <th></th>\n",
       "      <th>계</th>\n",
       "      <th>인터넷쇼핑</th>\n",
       "      <th>모바일쇼핑</th>\n",
       "    </tr>\n",
       "  </thead>\n",
       "  <tbody>\n",
       "    <tr>\n",
       "      <th>2019.3/4</th>\n",
       "      <td>2600812</td>\n",
       "      <td>170225</td>\n",
       "      <td>2430588</td>\n",
       "    </tr>\n",
       "    <tr>\n",
       "      <th>2019.4/4</th>\n",
       "      <td>2999989</td>\n",
       "      <td>187886</td>\n",
       "      <td>2812104</td>\n",
       "    </tr>\n",
       "    <tr>\n",
       "      <th>2020.1/4</th>\n",
       "      <td>3451096</td>\n",
       "      <td>208074</td>\n",
       "      <td>3243022</td>\n",
       "    </tr>\n",
       "    <tr>\n",
       "      <th>2020.2/4</th>\n",
       "      <td>3837303</td>\n",
       "      <td>234341</td>\n",
       "      <td>3602962</td>\n",
       "    </tr>\n",
       "    <tr>\n",
       "      <th>2020.3/4</th>\n",
       "      <td>4660427</td>\n",
       "      <td>232218</td>\n",
       "      <td>4428209</td>\n",
       "    </tr>\n",
       "    <tr>\n",
       "      <th>2020.4/4</th>\n",
       "      <td>5388266</td>\n",
       "      <td>225820</td>\n",
       "      <td>5162446</td>\n",
       "    </tr>\n",
       "    <tr>\n",
       "      <th>2021.1/4</th>\n",
       "      <td>5906523</td>\n",
       "      <td>187489</td>\n",
       "      <td>5719034</td>\n",
       "    </tr>\n",
       "    <tr>\n",
       "      <th>2021.2/4</th>\n",
       "      <td>6218025</td>\n",
       "      <td>162909</td>\n",
       "      <td>6055116</td>\n",
       "    </tr>\n",
       "    <tr>\n",
       "      <th>2021.3/4</th>\n",
       "      <td>7105007</td>\n",
       "      <td>176914</td>\n",
       "      <td>6928093</td>\n",
       "    </tr>\n",
       "    <tr>\n",
       "      <th>2021.4/4</th>\n",
       "      <td>6930102</td>\n",
       "      <td>155184</td>\n",
       "      <td>6774918</td>\n",
       "    </tr>\n",
       "    <tr>\n",
       "      <th>2022.1/4</th>\n",
       "      <td>7134340</td>\n",
       "      <td>152199</td>\n",
       "      <td>6982141</td>\n",
       "    </tr>\n",
       "    <tr>\n",
       "      <th>2022.2/4</th>\n",
       "      <td>6369509</td>\n",
       "      <td>131526</td>\n",
       "      <td>6237983</td>\n",
       "    </tr>\n",
       "    <tr>\n",
       "      <th>2022.3/4</th>\n",
       "      <td>6576104</td>\n",
       "      <td>126087</td>\n",
       "      <td>6450017</td>\n",
       "    </tr>\n",
       "    <tr>\n",
       "      <th>2022.4/4</th>\n",
       "      <td>6514020</td>\n",
       "      <td>119361</td>\n",
       "      <td>6394659</td>\n",
       "    </tr>\n",
       "    <tr>\n",
       "      <th>2023.1/4 p)</th>\n",
       "      <td>6370235</td>\n",
       "      <td>114448</td>\n",
       "      <td>6255787</td>\n",
       "    </tr>\n",
       "  </tbody>\n",
       "</table>\n",
       "</div>"
      ],
      "text/plain": [
       "                   계   인터넷쇼핑    모바일쇼핑\n",
       "2019.3/4     2600812  170225  2430588\n",
       "2019.4/4     2999989  187886  2812104\n",
       "2020.1/4     3451096  208074  3243022\n",
       "2020.2/4     3837303  234341  3602962\n",
       "2020.3/4     4660427  232218  4428209\n",
       "2020.4/4     5388266  225820  5162446\n",
       "2021.1/4     5906523  187489  5719034\n",
       "2021.2/4     6218025  162909  6055116\n",
       "2021.3/4     7105007  176914  6928093\n",
       "2021.4/4     6930102  155184  6774918\n",
       "2022.1/4     7134340  152199  6982141\n",
       "2022.2/4     6369509  131526  6237983\n",
       "2022.3/4     6576104  126087  6450017\n",
       "2022.4/4     6514020  119361  6394659\n",
       "2023.1/4 p)  6370235  114448  6255787"
      ]
     },
     "execution_count": 68,
     "metadata": {},
     "output_type": "execute_result"
    }
   ],
   "source": [
    "pd1q_transpose = pd1q.T.iloc[2:,:]\n",
    "pd1q_transpose.columns = [\"계\", \"인터넷쇼핑\", \"모바일쇼핑\"]\n",
    "pd1q_transpose"
   ]
  },
  {
   "cell_type": "markdown",
   "id": "d10e6f55",
   "metadata": {},
   "source": [
    "### 2) 7월 한 달 동안 날씨에 따른 배달 품목 데이터 수집\n",
    "날씨별 배달량을 합산하여 비가 왔을 때와 비가 오지 않았을 때의 배달사용량을 비교하기 위해서입니다."
   ]
  },
  {
   "cell_type": "markdown",
   "id": "494748b7",
   "metadata": {},
   "source": [
    "아래는 해당 데이터를 불러오는 코드입니다."
   ]
  },
  {
   "cell_type": "code",
   "execution_count": 69,
   "id": "4bc4db18",
   "metadata": {},
   "outputs": [
    {
     "data": {
      "text/html": [
       "<div>\n",
       "<style scoped>\n",
       "    .dataframe tbody tr th:only-of-type {\n",
       "        vertical-align: middle;\n",
       "    }\n",
       "\n",
       "    .dataframe tbody tr th {\n",
       "        vertical-align: top;\n",
       "    }\n",
       "\n",
       "    .dataframe thead th {\n",
       "        text-align: right;\n",
       "    }\n",
       "</style>\n",
       "<table border=\"1\" class=\"dataframe\">\n",
       "  <thead>\n",
       "    <tr style=\"text-align: right;\">\n",
       "      <th></th>\n",
       "      <th>강원도</th>\n",
       "      <th>강릉시</th>\n",
       "      <th>2020-07-01</th>\n",
       "      <th>12</th>\n",
       "      <th>없음</th>\n",
       "      <th>83.0</th>\n",
       "      <th>0.0</th>\n",
       "      <th>19.0</th>\n",
       "      <th>3.5</th>\n",
       "      <th>약</th>\n",
       "      <th>...</th>\n",
       "      <th>0.3</th>\n",
       "      <th>0.4</th>\n",
       "      <th>0.5</th>\n",
       "      <th>0.6</th>\n",
       "      <th>0.7</th>\n",
       "      <th>0.8</th>\n",
       "      <th>0.9</th>\n",
       "      <th>0.10</th>\n",
       "      <th>0.11</th>\n",
       "      <th>0.12</th>\n",
       "    </tr>\n",
       "  </thead>\n",
       "  <tbody>\n",
       "    <tr>\n",
       "      <th>0</th>\n",
       "      <td>강원도</td>\n",
       "      <td>강릉시</td>\n",
       "      <td>2020-07-01</td>\n",
       "      <td>13</td>\n",
       "      <td>없음</td>\n",
       "      <td>82.0</td>\n",
       "      <td>0.0</td>\n",
       "      <td>18.8</td>\n",
       "      <td>4.0</td>\n",
       "      <td>약간강</td>\n",
       "      <td>...</td>\n",
       "      <td>0</td>\n",
       "      <td>0</td>\n",
       "      <td>0</td>\n",
       "      <td>0</td>\n",
       "      <td>0</td>\n",
       "      <td>0</td>\n",
       "      <td>0</td>\n",
       "      <td>0</td>\n",
       "      <td>0</td>\n",
       "      <td>0</td>\n",
       "    </tr>\n",
       "    <tr>\n",
       "      <th>1</th>\n",
       "      <td>강원도</td>\n",
       "      <td>강릉시</td>\n",
       "      <td>2020-07-01</td>\n",
       "      <td>18</td>\n",
       "      <td>없음</td>\n",
       "      <td>78.0</td>\n",
       "      <td>0.0</td>\n",
       "      <td>18.5</td>\n",
       "      <td>2.8</td>\n",
       "      <td>약</td>\n",
       "      <td>...</td>\n",
       "      <td>0</td>\n",
       "      <td>0</td>\n",
       "      <td>0</td>\n",
       "      <td>0</td>\n",
       "      <td>0</td>\n",
       "      <td>0</td>\n",
       "      <td>0</td>\n",
       "      <td>0</td>\n",
       "      <td>0</td>\n",
       "      <td>0</td>\n",
       "    </tr>\n",
       "    <tr>\n",
       "      <th>2</th>\n",
       "      <td>강원도</td>\n",
       "      <td>강릉시</td>\n",
       "      <td>2020-07-02</td>\n",
       "      <td>13</td>\n",
       "      <td>없음</td>\n",
       "      <td>74.0</td>\n",
       "      <td>0.0</td>\n",
       "      <td>21.9</td>\n",
       "      <td>1.2</td>\n",
       "      <td>약</td>\n",
       "      <td>...</td>\n",
       "      <td>0</td>\n",
       "      <td>0</td>\n",
       "      <td>0</td>\n",
       "      <td>0</td>\n",
       "      <td>0</td>\n",
       "      <td>0</td>\n",
       "      <td>0</td>\n",
       "      <td>0</td>\n",
       "      <td>0</td>\n",
       "      <td>0</td>\n",
       "    </tr>\n",
       "    <tr>\n",
       "      <th>3</th>\n",
       "      <td>강원도</td>\n",
       "      <td>강릉시</td>\n",
       "      <td>2020-07-03</td>\n",
       "      <td>11</td>\n",
       "      <td>없음</td>\n",
       "      <td>84.0</td>\n",
       "      <td>0.0</td>\n",
       "      <td>20.5</td>\n",
       "      <td>0.9</td>\n",
       "      <td>약</td>\n",
       "      <td>...</td>\n",
       "      <td>0</td>\n",
       "      <td>0</td>\n",
       "      <td>0</td>\n",
       "      <td>0</td>\n",
       "      <td>0</td>\n",
       "      <td>0</td>\n",
       "      <td>0</td>\n",
       "      <td>0</td>\n",
       "      <td>0</td>\n",
       "      <td>0</td>\n",
       "    </tr>\n",
       "    <tr>\n",
       "      <th>4</th>\n",
       "      <td>강원도</td>\n",
       "      <td>강릉시</td>\n",
       "      <td>2020-07-04</td>\n",
       "      <td>16</td>\n",
       "      <td>없음</td>\n",
       "      <td>84.0</td>\n",
       "      <td>0.0</td>\n",
       "      <td>19.8</td>\n",
       "      <td>0.5</td>\n",
       "      <td>약</td>\n",
       "      <td>...</td>\n",
       "      <td>0</td>\n",
       "      <td>0</td>\n",
       "      <td>0</td>\n",
       "      <td>0</td>\n",
       "      <td>0</td>\n",
       "      <td>0</td>\n",
       "      <td>0</td>\n",
       "      <td>0</td>\n",
       "      <td>0</td>\n",
       "      <td>0</td>\n",
       "    </tr>\n",
       "    <tr>\n",
       "      <th>...</th>\n",
       "      <td>...</td>\n",
       "      <td>...</td>\n",
       "      <td>...</td>\n",
       "      <td>...</td>\n",
       "      <td>...</td>\n",
       "      <td>...</td>\n",
       "      <td>...</td>\n",
       "      <td>...</td>\n",
       "      <td>...</td>\n",
       "      <td>...</td>\n",
       "      <td>...</td>\n",
       "      <td>...</td>\n",
       "      <td>...</td>\n",
       "      <td>...</td>\n",
       "      <td>...</td>\n",
       "      <td>...</td>\n",
       "      <td>...</td>\n",
       "      <td>...</td>\n",
       "      <td>...</td>\n",
       "      <td>...</td>\n",
       "      <td>...</td>\n",
       "    </tr>\n",
       "    <tr>\n",
       "      <th>34625</th>\n",
       "      <td>충청북도</td>\n",
       "      <td>충주시</td>\n",
       "      <td>2020-07-31</td>\n",
       "      <td>19</td>\n",
       "      <td>없음</td>\n",
       "      <td>98.0</td>\n",
       "      <td>0.0</td>\n",
       "      <td>23.5</td>\n",
       "      <td>0.6</td>\n",
       "      <td>약</td>\n",
       "      <td>...</td>\n",
       "      <td>1</td>\n",
       "      <td>18</td>\n",
       "      <td>0</td>\n",
       "      <td>0</td>\n",
       "      <td>5</td>\n",
       "      <td>0</td>\n",
       "      <td>0</td>\n",
       "      <td>0</td>\n",
       "      <td>0</td>\n",
       "      <td>0</td>\n",
       "    </tr>\n",
       "    <tr>\n",
       "      <th>34626</th>\n",
       "      <td>충청북도</td>\n",
       "      <td>충주시</td>\n",
       "      <td>2020-07-31</td>\n",
       "      <td>20</td>\n",
       "      <td>없음</td>\n",
       "      <td>97.0</td>\n",
       "      <td>0.0</td>\n",
       "      <td>23.6</td>\n",
       "      <td>0.3</td>\n",
       "      <td>약</td>\n",
       "      <td>...</td>\n",
       "      <td>0</td>\n",
       "      <td>13</td>\n",
       "      <td>0</td>\n",
       "      <td>0</td>\n",
       "      <td>3</td>\n",
       "      <td>0</td>\n",
       "      <td>0</td>\n",
       "      <td>0</td>\n",
       "      <td>0</td>\n",
       "      <td>0</td>\n",
       "    </tr>\n",
       "    <tr>\n",
       "      <th>34627</th>\n",
       "      <td>충청북도</td>\n",
       "      <td>충주시</td>\n",
       "      <td>2020-07-31</td>\n",
       "      <td>21</td>\n",
       "      <td>없음</td>\n",
       "      <td>94.0</td>\n",
       "      <td>0.0</td>\n",
       "      <td>24.6</td>\n",
       "      <td>0.5</td>\n",
       "      <td>약</td>\n",
       "      <td>...</td>\n",
       "      <td>0</td>\n",
       "      <td>16</td>\n",
       "      <td>0</td>\n",
       "      <td>0</td>\n",
       "      <td>2</td>\n",
       "      <td>0</td>\n",
       "      <td>0</td>\n",
       "      <td>0</td>\n",
       "      <td>0</td>\n",
       "      <td>0</td>\n",
       "    </tr>\n",
       "    <tr>\n",
       "      <th>34628</th>\n",
       "      <td>충청북도</td>\n",
       "      <td>충주시</td>\n",
       "      <td>2020-07-31</td>\n",
       "      <td>22</td>\n",
       "      <td>없음</td>\n",
       "      <td>93.0</td>\n",
       "      <td>0.0</td>\n",
       "      <td>25.5</td>\n",
       "      <td>1.0</td>\n",
       "      <td>약</td>\n",
       "      <td>...</td>\n",
       "      <td>0</td>\n",
       "      <td>10</td>\n",
       "      <td>0</td>\n",
       "      <td>0</td>\n",
       "      <td>0</td>\n",
       "      <td>0</td>\n",
       "      <td>0</td>\n",
       "      <td>0</td>\n",
       "      <td>0</td>\n",
       "      <td>0</td>\n",
       "    </tr>\n",
       "    <tr>\n",
       "      <th>34629</th>\n",
       "      <td>충청북도</td>\n",
       "      <td>충주시</td>\n",
       "      <td>2020-07-31</td>\n",
       "      <td>23</td>\n",
       "      <td>없음</td>\n",
       "      <td>84.0</td>\n",
       "      <td>0.0</td>\n",
       "      <td>26.7</td>\n",
       "      <td>0.7</td>\n",
       "      <td>약</td>\n",
       "      <td>...</td>\n",
       "      <td>0</td>\n",
       "      <td>6</td>\n",
       "      <td>0</td>\n",
       "      <td>0</td>\n",
       "      <td>0</td>\n",
       "      <td>0</td>\n",
       "      <td>0</td>\n",
       "      <td>0</td>\n",
       "      <td>0</td>\n",
       "      <td>0</td>\n",
       "    </tr>\n",
       "  </tbody>\n",
       "</table>\n",
       "<p>34630 rows × 27 columns</p>\n",
       "</div>"
      ],
      "text/plain": [
       "        강원도  강릉시  2020-07-01  12  없음  83.0  0.0  19.0  3.5    약  ... 0.3  0.4  \\\n",
       "0       강원도  강릉시  2020-07-01  13  없음  82.0  0.0  18.8  4.0  약간강  ...   0    0   \n",
       "1       강원도  강릉시  2020-07-01  18  없음  78.0  0.0  18.5  2.8    약  ...   0    0   \n",
       "2       강원도  강릉시  2020-07-02  13  없음  74.0  0.0  21.9  1.2    약  ...   0    0   \n",
       "3       강원도  강릉시  2020-07-03  11  없음  84.0  0.0  20.5  0.9    약  ...   0    0   \n",
       "4       강원도  강릉시  2020-07-04  16  없음  84.0  0.0  19.8  0.5    약  ...   0    0   \n",
       "...     ...  ...         ...  ..  ..   ...  ...   ...  ...  ...  ...  ..  ...   \n",
       "34625  충청북도  충주시  2020-07-31  19  없음  98.0  0.0  23.5  0.6    약  ...   1   18   \n",
       "34626  충청북도  충주시  2020-07-31  20  없음  97.0  0.0  23.6  0.3    약  ...   0   13   \n",
       "34627  충청북도  충주시  2020-07-31  21  없음  94.0  0.0  24.6  0.5    약  ...   0   16   \n",
       "34628  충청북도  충주시  2020-07-31  22  없음  93.0  0.0  25.5  1.0    약  ...   0   10   \n",
       "34629  충청북도  충주시  2020-07-31  23  없음  84.0  0.0  26.7  0.7    약  ...   0    6   \n",
       "\n",
       "      0.5  0.6  0.7  0.8  0.9  0.10  0.11  0.12  \n",
       "0       0    0    0    0    0     0     0     0  \n",
       "1       0    0    0    0    0     0     0     0  \n",
       "2       0    0    0    0    0     0     0     0  \n",
       "3       0    0    0    0    0     0     0     0  \n",
       "4       0    0    0    0    0     0     0     0  \n",
       "...    ..  ...  ...  ...  ...   ...   ...   ...  \n",
       "34625   0    0    5    0    0     0     0     0  \n",
       "34626   0    0    3    0    0     0     0     0  \n",
       "34627   0    0    2    0    0     0     0     0  \n",
       "34628   0    0    0    0    0     0     0     0  \n",
       "34629   0    0    0    0    0     0     0     0  \n",
       "\n",
       "[34630 rows x 27 columns]"
      ]
     },
     "execution_count": 69,
     "metadata": {},
     "output_type": "execute_result"
    }
   ],
   "source": [
    "weather_df = pd.read_csv(\"(날씨)KGU_3rd_ORIGIN_KGUWTHRDLVRDF_20200701000000.csv\")\n",
    "weather_df"
   ]
  },
  {
   "cell_type": "markdown",
   "id": "34fdf771",
   "metadata": {},
   "source": [
    "저는 강우 여부에 따라 날씨를 나눌 것이므로 usecols를 이용하여 필요한 데이터들만 남기는 코드를 짰습니다.\n",
    "또한 첫 줄의 데이터를 사용하기 위해 header를 사용했습니다.\n",
    "\n",
    "위의 데이터와 마찬가지로 후에 가공하기 편한 형태로 만들었습니다."
   ]
  },
  {
   "cell_type": "code",
   "execution_count": 70,
   "id": "b13f7104",
   "metadata": {},
   "outputs": [
    {
     "data": {
      "text/html": [
       "<div>\n",
       "<style scoped>\n",
       "    .dataframe tbody tr th:only-of-type {\n",
       "        vertical-align: middle;\n",
       "    }\n",
       "\n",
       "    .dataframe tbody tr th {\n",
       "        vertical-align: top;\n",
       "    }\n",
       "\n",
       "    .dataframe thead th {\n",
       "        text-align: right;\n",
       "    }\n",
       "</style>\n",
       "<table border=\"1\" class=\"dataframe\">\n",
       "  <thead>\n",
       "    <tr style=\"text-align: right;\">\n",
       "      <th></th>\n",
       "      <th>날짜</th>\n",
       "      <th>강우여부</th>\n",
       "      <th>배달량</th>\n",
       "    </tr>\n",
       "  </thead>\n",
       "  <tbody>\n",
       "    <tr>\n",
       "      <th>0</th>\n",
       "      <td>2020-07-01</td>\n",
       "      <td>없음</td>\n",
       "      <td>1</td>\n",
       "    </tr>\n",
       "    <tr>\n",
       "      <th>1</th>\n",
       "      <td>2020-07-01</td>\n",
       "      <td>없음</td>\n",
       "      <td>1</td>\n",
       "    </tr>\n",
       "    <tr>\n",
       "      <th>2</th>\n",
       "      <td>2020-07-01</td>\n",
       "      <td>없음</td>\n",
       "      <td>2</td>\n",
       "    </tr>\n",
       "    <tr>\n",
       "      <th>3</th>\n",
       "      <td>2020-07-02</td>\n",
       "      <td>없음</td>\n",
       "      <td>1</td>\n",
       "    </tr>\n",
       "    <tr>\n",
       "      <th>4</th>\n",
       "      <td>2020-07-03</td>\n",
       "      <td>없음</td>\n",
       "      <td>1</td>\n",
       "    </tr>\n",
       "  </tbody>\n",
       "</table>\n",
       "</div>"
      ],
      "text/plain": [
       "           날짜 강우여부  배달량\n",
       "0  2020-07-01   없음    1\n",
       "1  2020-07-01   없음    1\n",
       "2  2020-07-01   없음    2\n",
       "3  2020-07-02   없음    1\n",
       "4  2020-07-03   없음    1"
      ]
     },
     "execution_count": 70,
     "metadata": {},
     "output_type": "execute_result"
    }
   ],
   "source": [
    "use = [2, 4, 13, 14, 15, 16, 17, 18,19,20,21,22,23,24,25, 26]\n",
    "weather_df = pd.read_csv(\"(날씨)KGU_3rd_ORIGIN_KGUWTHRDLVRDF_20200701000000.csv\",  header=None,usecols=use)\n",
    "weather_df.columns = ['날짜', '강우여부',  13, 14, 15, 16, 17, 18,19,20,21,22,23,24,25, 26]\n",
    "weather_df[\"배달량\"] = weather_df.iloc[:,2:].sum(axis=1)\n",
    "weather_df = weather_df.drop(columns=use[2:])\n",
    "weather_df.head()"
   ]
  },
  {
   "cell_type": "markdown",
   "id": "9d36dfbc",
   "metadata": {},
   "source": [
    "비가 왔을 때의 배달량과 비가 오지 않았을 때의 배달량을 각각 합산하는 코드입니다."
   ]
  },
  {
   "cell_type": "code",
   "execution_count": 71,
   "id": "f8ed1d1b",
   "metadata": {},
   "outputs": [],
   "source": [
    "rainy_deliver_sum = weather_df[(weather_df[\"강우여부\"]==\"비\")][\"배달량\"].sum()\n",
    "sunny_deliver_sum = weather_df[(weather_df[\"강우여부\"]==\"없음\")][\"배달량\"].sum()"
   ]
  },
  {
   "cell_type": "code",
   "execution_count": 72,
   "id": "529bdf86",
   "metadata": {},
   "outputs": [
    {
     "data": {
      "text/html": [
       "<div>\n",
       "<style scoped>\n",
       "    .dataframe tbody tr th:only-of-type {\n",
       "        vertical-align: middle;\n",
       "    }\n",
       "\n",
       "    .dataframe tbody tr th {\n",
       "        vertical-align: top;\n",
       "    }\n",
       "\n",
       "    .dataframe thead th {\n",
       "        text-align: right;\n",
       "    }\n",
       "</style>\n",
       "<table border=\"1\" class=\"dataframe\">\n",
       "  <thead>\n",
       "    <tr style=\"text-align: right;\">\n",
       "      <th></th>\n",
       "      <th>강우여부</th>\n",
       "      <th>배달량</th>\n",
       "    </tr>\n",
       "  </thead>\n",
       "  <tbody>\n",
       "    <tr>\n",
       "      <th>0</th>\n",
       "      <td>비</td>\n",
       "      <td>137204</td>\n",
       "    </tr>\n",
       "    <tr>\n",
       "      <th>1</th>\n",
       "      <td>없음</td>\n",
       "      <td>961225</td>\n",
       "    </tr>\n",
       "  </tbody>\n",
       "</table>\n",
       "</div>"
      ],
      "text/plain": [
       "  강우여부     배달량\n",
       "0    비  137204\n",
       "1   없음  961225"
      ]
     },
     "execution_count": 72,
     "metadata": {},
     "output_type": "execute_result"
    }
   ],
   "source": [
    "sum_df = pd.DataFrame(columns=[\"강우여부\", \"배달량\"])\n",
    "sum_df.loc[len(sum_df)]=[\"비\", rainy_deliver_sum]\n",
    "sum_df.loc[len(sum_df)]=[\"없음\", sunny_deliver_sum]\n",
    "sum_df"
   ]
  },
  {
   "cell_type": "markdown",
   "id": "bcc6da2e",
   "metadata": {},
   "source": [
    "위의 결과값만 보면 비가 오지 않았을 때 배달량이 훨씬 많아 보이지만 정확한 측정을 위해 합산 개수로 나누어 평균을 구하는 코드를 추가로 작성했습니다."
   ]
  },
  {
   "cell_type": "code",
   "execution_count": 73,
   "id": "aabc9635",
   "metadata": {},
   "outputs": [],
   "source": [
    "rainy_deliver_mean = weather_df[(weather_df[\"강우여부\"]==\"비\")][\"배달량\"].mean()\n",
    "sunny_deliver_mean = weather_df[(weather_df[\"강우여부\"]==\"없음\")][\"배달량\"].mean()"
   ]
  },
  {
   "cell_type": "code",
   "execution_count": 74,
   "id": "7064e2ec",
   "metadata": {},
   "outputs": [
    {
     "data": {
      "text/html": [
       "<div>\n",
       "<style scoped>\n",
       "    .dataframe tbody tr th:only-of-type {\n",
       "        vertical-align: middle;\n",
       "    }\n",
       "\n",
       "    .dataframe tbody tr th {\n",
       "        vertical-align: top;\n",
       "    }\n",
       "\n",
       "    .dataframe thead th {\n",
       "        text-align: right;\n",
       "    }\n",
       "</style>\n",
       "<table border=\"1\" class=\"dataframe\">\n",
       "  <thead>\n",
       "    <tr style=\"text-align: right;\">\n",
       "      <th></th>\n",
       "      <th>강우여부</th>\n",
       "      <th>배달량</th>\n",
       "    </tr>\n",
       "  </thead>\n",
       "  <tbody>\n",
       "    <tr>\n",
       "      <th>0</th>\n",
       "      <td>비</td>\n",
       "      <td>31.701479</td>\n",
       "    </tr>\n",
       "    <tr>\n",
       "      <th>1</th>\n",
       "      <td>없음</td>\n",
       "      <td>31.720457</td>\n",
       "    </tr>\n",
       "  </tbody>\n",
       "</table>\n",
       "</div>"
      ],
      "text/plain": [
       "  강우여부        배달량\n",
       "0    비  31.701479\n",
       "1   없음  31.720457"
      ]
     },
     "execution_count": 74,
     "metadata": {},
     "output_type": "execute_result"
    }
   ],
   "source": [
    "mean_df = pd.DataFrame(columns=[\"강우여부\", \"배달량\"])\n",
    "mean_df.loc[len(mean_df)]=[\"비\", rainy_deliver_mean]\n",
    "mean_df.loc[len(mean_df)]=[\"없음\", sunny_deliver_mean]\n",
    "mean_df"
   ]
  },
  {
   "cell_type": "markdown",
   "id": "79ec3110",
   "metadata": {},
   "source": [
    "### 3) 시간대/요일별에 따른 배달 품목 데이터 수집\n",
    "요일별 배달량을 합산하여 평일과 주말의 배달량 차이를 비교하기 위해서입니다."
   ]
  },
  {
   "cell_type": "code",
   "execution_count": 75,
   "id": "602ceb82",
   "metadata": {
    "scrolled": true
   },
   "outputs": [
    {
     "data": {
      "text/html": [
       "<div>\n",
       "<style scoped>\n",
       "    .dataframe tbody tr th:only-of-type {\n",
       "        vertical-align: middle;\n",
       "    }\n",
       "\n",
       "    .dataframe tbody tr th {\n",
       "        vertical-align: top;\n",
       "    }\n",
       "\n",
       "    .dataframe thead th {\n",
       "        text-align: right;\n",
       "    }\n",
       "</style>\n",
       "<table border=\"1\" class=\"dataframe\">\n",
       "  <thead>\n",
       "    <tr style=\"text-align: right;\">\n",
       "      <th></th>\n",
       "      <th>﻿2021-07-01</th>\n",
       "      <th>00</th>\n",
       "      <th>목요일</th>\n",
       "      <th>충청남도</th>\n",
       "      <th>천안시 동남구</th>\n",
       "      <th>돈까스/일식</th>\n",
       "    </tr>\n",
       "  </thead>\n",
       "  <tbody>\n",
       "    <tr>\n",
       "      <th>0</th>\n",
       "      <td>2021-07-01</td>\n",
       "      <td>0</td>\n",
       "      <td>목요일</td>\n",
       "      <td>충청남도</td>\n",
       "      <td>천안시 동남구</td>\n",
       "      <td>족발/보쌈</td>\n",
       "    </tr>\n",
       "    <tr>\n",
       "      <th>1</th>\n",
       "      <td>2021-07-01</td>\n",
       "      <td>0</td>\n",
       "      <td>목요일</td>\n",
       "      <td>경기도</td>\n",
       "      <td>동두천시</td>\n",
       "      <td>돈까스/일식</td>\n",
       "    </tr>\n",
       "    <tr>\n",
       "      <th>2</th>\n",
       "      <td>2021-07-01</td>\n",
       "      <td>0</td>\n",
       "      <td>목요일</td>\n",
       "      <td>경기도</td>\n",
       "      <td>동두천시</td>\n",
       "      <td>돈까스/일식</td>\n",
       "    </tr>\n",
       "    <tr>\n",
       "      <th>3</th>\n",
       "      <td>2021-07-01</td>\n",
       "      <td>0</td>\n",
       "      <td>목요일</td>\n",
       "      <td>경상북도</td>\n",
       "      <td>영천시</td>\n",
       "      <td>돈까스/일식</td>\n",
       "    </tr>\n",
       "    <tr>\n",
       "      <th>4</th>\n",
       "      <td>2021-07-01</td>\n",
       "      <td>0</td>\n",
       "      <td>목요일</td>\n",
       "      <td>경상북도</td>\n",
       "      <td>영천시</td>\n",
       "      <td>돈까스/일식</td>\n",
       "    </tr>\n",
       "    <tr>\n",
       "      <th>...</th>\n",
       "      <td>...</td>\n",
       "      <td>...</td>\n",
       "      <td>...</td>\n",
       "      <td>...</td>\n",
       "      <td>...</td>\n",
       "      <td>...</td>\n",
       "    </tr>\n",
       "    <tr>\n",
       "      <th>4271690</th>\n",
       "      <td>2021-12-31</td>\n",
       "      <td>23</td>\n",
       "      <td>금요일</td>\n",
       "      <td>경상남도</td>\n",
       "      <td>진주시</td>\n",
       "      <td>분식</td>\n",
       "    </tr>\n",
       "    <tr>\n",
       "      <th>4271691</th>\n",
       "      <td>2021-12-31</td>\n",
       "      <td>23</td>\n",
       "      <td>금요일</td>\n",
       "      <td>부산광역시</td>\n",
       "      <td>강서구</td>\n",
       "      <td>치킨</td>\n",
       "    </tr>\n",
       "    <tr>\n",
       "      <th>4271692</th>\n",
       "      <td>2021-12-31</td>\n",
       "      <td>23</td>\n",
       "      <td>금요일</td>\n",
       "      <td>부산광역시</td>\n",
       "      <td>강서구</td>\n",
       "      <td>치킨</td>\n",
       "    </tr>\n",
       "    <tr>\n",
       "      <th>4271693</th>\n",
       "      <td>2021-12-31</td>\n",
       "      <td>23</td>\n",
       "      <td>금요일</td>\n",
       "      <td>부산광역시</td>\n",
       "      <td>강서구</td>\n",
       "      <td>치킨</td>\n",
       "    </tr>\n",
       "    <tr>\n",
       "      <th>4271694</th>\n",
       "      <td>2021-12-31</td>\n",
       "      <td>23</td>\n",
       "      <td>금요일</td>\n",
       "      <td>경기도</td>\n",
       "      <td>군포시</td>\n",
       "      <td>카페/디저트</td>\n",
       "    </tr>\n",
       "  </tbody>\n",
       "</table>\n",
       "<p>4271695 rows × 6 columns</p>\n",
       "</div>"
      ],
      "text/plain": [
       "        ﻿2021-07-01  00  목요일   충청남도  천안시 동남구  돈까스/일식\n",
       "0        2021-07-01   0  목요일   충청남도  천안시 동남구   족발/보쌈\n",
       "1        2021-07-01   0  목요일    경기도     동두천시  돈까스/일식\n",
       "2        2021-07-01   0  목요일    경기도     동두천시  돈까스/일식\n",
       "3        2021-07-01   0  목요일   경상북도      영천시  돈까스/일식\n",
       "4        2021-07-01   0  목요일   경상북도      영천시  돈까스/일식\n",
       "...             ...  ..  ...    ...      ...     ...\n",
       "4271690  2021-12-31  23  금요일   경상남도      진주시      분식\n",
       "4271691  2021-12-31  23  금요일  부산광역시      강서구      치킨\n",
       "4271692  2021-12-31  23  금요일  부산광역시      강서구      치킨\n",
       "4271693  2021-12-31  23  금요일  부산광역시      강서구      치킨\n",
       "4271694  2021-12-31  23  금요일    경기도      군포시  카페/디저트\n",
       "\n",
       "[4271695 rows x 6 columns]"
      ]
     },
     "execution_count": 75,
     "metadata": {},
     "output_type": "execute_result"
    }
   ],
   "source": [
    "pd2 = pd.read_csv(\"(요일,시간대)KGU_3rd_ORIGIN_KGUAREADOITEM_20210701000000.csv\")\n",
    "pd2"
   ]
  },
  {
   "cell_type": "markdown",
   "id": "9ea8ef1d",
   "metadata": {},
   "source": [
    "위와 같은 방법으로 사용하기 편하고 필요한 데이터만을 남겨두기 위해 작성한 코드입니다."
   ]
  },
  {
   "cell_type": "code",
   "execution_count": 76,
   "id": "77aceb67",
   "metadata": {},
   "outputs": [
    {
     "data": {
      "text/html": [
       "<div>\n",
       "<style scoped>\n",
       "    .dataframe tbody tr th:only-of-type {\n",
       "        vertical-align: middle;\n",
       "    }\n",
       "\n",
       "    .dataframe tbody tr th {\n",
       "        vertical-align: top;\n",
       "    }\n",
       "\n",
       "    .dataframe thead th {\n",
       "        text-align: right;\n",
       "    }\n",
       "</style>\n",
       "<table border=\"1\" class=\"dataframe\">\n",
       "  <thead>\n",
       "    <tr style=\"text-align: right;\">\n",
       "      <th></th>\n",
       "      <th>시간대</th>\n",
       "      <th>요일</th>\n",
       "    </tr>\n",
       "  </thead>\n",
       "  <tbody>\n",
       "    <tr>\n",
       "      <th>0</th>\n",
       "      <td>0</td>\n",
       "      <td>목요일</td>\n",
       "    </tr>\n",
       "    <tr>\n",
       "      <th>1</th>\n",
       "      <td>0</td>\n",
       "      <td>목요일</td>\n",
       "    </tr>\n",
       "    <tr>\n",
       "      <th>2</th>\n",
       "      <td>0</td>\n",
       "      <td>목요일</td>\n",
       "    </tr>\n",
       "    <tr>\n",
       "      <th>3</th>\n",
       "      <td>0</td>\n",
       "      <td>목요일</td>\n",
       "    </tr>\n",
       "    <tr>\n",
       "      <th>4</th>\n",
       "      <td>0</td>\n",
       "      <td>목요일</td>\n",
       "    </tr>\n",
       "  </tbody>\n",
       "</table>\n",
       "</div>"
      ],
      "text/plain": [
       "   시간대   요일\n",
       "0    0  목요일\n",
       "1    0  목요일\n",
       "2    0  목요일\n",
       "3    0  목요일\n",
       "4    0  목요일"
      ]
     },
     "execution_count": 76,
     "metadata": {},
     "output_type": "execute_result"
    }
   ],
   "source": [
    "pd2 = pd.read_csv('(요일,시간대)KGU_3rd_ORIGIN_KGUAREADOITEM_20210701000000.csv',header=None,usecols=[2,1])\n",
    "pd2.columns=[\"시간대\",'요일']\n",
    "pd2.head()"
   ]
  },
  {
   "cell_type": "markdown",
   "id": "93a867a5",
   "metadata": {},
   "source": [
    "목요일 00시에 접수된 배달을 합산하는 코드입니다."
   ]
  },
  {
   "cell_type": "code",
   "execution_count": 77,
   "id": "c59ff4d1",
   "metadata": {
    "scrolled": true
   },
   "outputs": [
    {
     "data": {
      "text/plain": [
       "5945"
      ]
     },
     "execution_count": 77,
     "metadata": {},
     "output_type": "execute_result"
    }
   ],
   "source": [
    "nums = pd2[(pd2[\"시간대\"]==0) & (pd2[\"요일\"]==\"목요일\")].shape[0]\n",
    "nums"
   ]
  },
  {
   "cell_type": "markdown",
   "id": "9fa49d7f",
   "metadata": {},
   "source": [
    "시간대와 요일을 중복을 제거한 리스트로 만들고 반복문을 사용하여 정리해주었습니다."
   ]
  },
  {
   "cell_type": "code",
   "execution_count": 78,
   "id": "051d96b5",
   "metadata": {},
   "outputs": [
    {
     "data": {
      "text/html": [
       "<div>\n",
       "<style scoped>\n",
       "    .dataframe tbody tr th:only-of-type {\n",
       "        vertical-align: middle;\n",
       "    }\n",
       "\n",
       "    .dataframe tbody tr th {\n",
       "        vertical-align: top;\n",
       "    }\n",
       "\n",
       "    .dataframe thead th {\n",
       "        text-align: right;\n",
       "    }\n",
       "</style>\n",
       "<table border=\"1\" class=\"dataframe\">\n",
       "  <thead>\n",
       "    <tr style=\"text-align: right;\">\n",
       "      <th></th>\n",
       "      <th>요일</th>\n",
       "      <th>시간대</th>\n",
       "      <th>배달량</th>\n",
       "    </tr>\n",
       "  </thead>\n",
       "  <tbody>\n",
       "    <tr>\n",
       "      <th>0</th>\n",
       "      <td>월요일</td>\n",
       "      <td>0</td>\n",
       "      <td>6601</td>\n",
       "    </tr>\n",
       "    <tr>\n",
       "      <th>1</th>\n",
       "      <td>월요일</td>\n",
       "      <td>1</td>\n",
       "      <td>2995</td>\n",
       "    </tr>\n",
       "    <tr>\n",
       "      <th>2</th>\n",
       "      <td>월요일</td>\n",
       "      <td>2</td>\n",
       "      <td>1293</td>\n",
       "    </tr>\n",
       "    <tr>\n",
       "      <th>3</th>\n",
       "      <td>월요일</td>\n",
       "      <td>3</td>\n",
       "      <td>700</td>\n",
       "    </tr>\n",
       "    <tr>\n",
       "      <th>4</th>\n",
       "      <td>월요일</td>\n",
       "      <td>4</td>\n",
       "      <td>508</td>\n",
       "    </tr>\n",
       "  </tbody>\n",
       "</table>\n",
       "</div>"
      ],
      "text/plain": [
       "    요일  시간대   배달량\n",
       "0  월요일    0  6601\n",
       "1  월요일    1  2995\n",
       "2  월요일    2  1293\n",
       "3  월요일    3   700\n",
       "4  월요일    4   508"
      ]
     },
     "execution_count": 78,
     "metadata": {},
     "output_type": "execute_result"
    }
   ],
   "source": [
    "times = pd2[\"시간대\"].unique().tolist()\n",
    "days = pd2[\"요일\"].unique().tolist()\n",
    "days = days[-3:] + days[:4]\n",
    "day_time_df = pd.DataFrame(columns=[\"요일\",\"시간대\",\"배달량\"])\n",
    "for day in days:\n",
    "    for time in times:\n",
    "        day_time_df.loc[len(day_time_df)] = [day, time, pd2[(pd2[\"시간대\"]==time) & (pd2[\"요일\"]==day)].shape[0]]\n",
    "day_time_df.head()"
   ]
  },
  {
   "cell_type": "code",
   "execution_count": 79,
   "id": "b0c3856a",
   "metadata": {
    "scrolled": true
   },
   "outputs": [
    {
     "data": {
      "text/html": [
       "<div>\n",
       "<style scoped>\n",
       "    .dataframe tbody tr th:only-of-type {\n",
       "        vertical-align: middle;\n",
       "    }\n",
       "\n",
       "    .dataframe tbody tr th {\n",
       "        vertical-align: top;\n",
       "    }\n",
       "\n",
       "    .dataframe thead th {\n",
       "        text-align: right;\n",
       "    }\n",
       "</style>\n",
       "<table border=\"1\" class=\"dataframe\">\n",
       "  <thead>\n",
       "    <tr style=\"text-align: right;\">\n",
       "      <th></th>\n",
       "      <th>요일</th>\n",
       "      <th>시간대</th>\n",
       "      <th>배달량</th>\n",
       "    </tr>\n",
       "  </thead>\n",
       "  <tbody>\n",
       "    <tr>\n",
       "      <th>0</th>\n",
       "      <td>월요일</td>\n",
       "      <td>0</td>\n",
       "      <td>6601</td>\n",
       "    </tr>\n",
       "    <tr>\n",
       "      <th>1</th>\n",
       "      <td>월요일</td>\n",
       "      <td>1</td>\n",
       "      <td>2995</td>\n",
       "    </tr>\n",
       "    <tr>\n",
       "      <th>2</th>\n",
       "      <td>월요일</td>\n",
       "      <td>2</td>\n",
       "      <td>1293</td>\n",
       "    </tr>\n",
       "    <tr>\n",
       "      <th>3</th>\n",
       "      <td>월요일</td>\n",
       "      <td>3</td>\n",
       "      <td>700</td>\n",
       "    </tr>\n",
       "    <tr>\n",
       "      <th>4</th>\n",
       "      <td>월요일</td>\n",
       "      <td>4</td>\n",
       "      <td>508</td>\n",
       "    </tr>\n",
       "    <tr>\n",
       "      <th>...</th>\n",
       "      <td>...</td>\n",
       "      <td>...</td>\n",
       "      <td>...</td>\n",
       "    </tr>\n",
       "    <tr>\n",
       "      <th>163</th>\n",
       "      <td>일요일</td>\n",
       "      <td>19</td>\n",
       "      <td>75392</td>\n",
       "    </tr>\n",
       "    <tr>\n",
       "      <th>164</th>\n",
       "      <td>일요일</td>\n",
       "      <td>20</td>\n",
       "      <td>55185</td>\n",
       "    </tr>\n",
       "    <tr>\n",
       "      <th>165</th>\n",
       "      <td>일요일</td>\n",
       "      <td>21</td>\n",
       "      <td>40478</td>\n",
       "    </tr>\n",
       "    <tr>\n",
       "      <th>166</th>\n",
       "      <td>일요일</td>\n",
       "      <td>22</td>\n",
       "      <td>25726</td>\n",
       "    </tr>\n",
       "    <tr>\n",
       "      <th>167</th>\n",
       "      <td>일요일</td>\n",
       "      <td>23</td>\n",
       "      <td>13503</td>\n",
       "    </tr>\n",
       "  </tbody>\n",
       "</table>\n",
       "<p>168 rows × 3 columns</p>\n",
       "</div>"
      ],
      "text/plain": [
       "      요일  시간대    배달량\n",
       "0    월요일    0   6601\n",
       "1    월요일    1   2995\n",
       "2    월요일    2   1293\n",
       "3    월요일    3    700\n",
       "4    월요일    4    508\n",
       "..   ...  ...    ...\n",
       "163  일요일   19  75392\n",
       "164  일요일   20  55185\n",
       "165  일요일   21  40478\n",
       "166  일요일   22  25726\n",
       "167  일요일   23  13503\n",
       "\n",
       "[168 rows x 3 columns]"
      ]
     },
     "execution_count": 79,
     "metadata": {},
     "output_type": "execute_result"
    }
   ],
   "source": [
    "day_time_df # 요일 / 시간대 / 배달량"
   ]
  },
  {
   "cell_type": "markdown",
   "id": "1e410531",
   "metadata": {},
   "source": [
    "아래는 요일별 배달량과 시간대별 배달량으로 나눈 코드입니다."
   ]
  },
  {
   "cell_type": "code",
   "execution_count": 80,
   "id": "360cfe31",
   "metadata": {},
   "outputs": [],
   "source": [
    "day_df = pd.DataFrame(columns=[\"요일\",\"배달량\"])\n",
    "for day in days:\n",
    "    day_df.loc[len(day_df)] = [day, pd2[(pd2[\"요일\"]==day)].shape[0]]"
   ]
  },
  {
   "cell_type": "code",
   "execution_count": 81,
   "id": "d4ac36a7",
   "metadata": {
    "scrolled": true
   },
   "outputs": [
    {
     "data": {
      "text/html": [
       "<div>\n",
       "<style scoped>\n",
       "    .dataframe tbody tr th:only-of-type {\n",
       "        vertical-align: middle;\n",
       "    }\n",
       "\n",
       "    .dataframe tbody tr th {\n",
       "        vertical-align: top;\n",
       "    }\n",
       "\n",
       "    .dataframe thead th {\n",
       "        text-align: right;\n",
       "    }\n",
       "</style>\n",
       "<table border=\"1\" class=\"dataframe\">\n",
       "  <thead>\n",
       "    <tr style=\"text-align: right;\">\n",
       "      <th></th>\n",
       "      <th>요일</th>\n",
       "      <th>배달량</th>\n",
       "    </tr>\n",
       "  </thead>\n",
       "  <tbody>\n",
       "    <tr>\n",
       "      <th>0</th>\n",
       "      <td>월요일</td>\n",
       "      <td>524387</td>\n",
       "    </tr>\n",
       "    <tr>\n",
       "      <th>1</th>\n",
       "      <td>화요일</td>\n",
       "      <td>510065</td>\n",
       "    </tr>\n",
       "    <tr>\n",
       "      <th>2</th>\n",
       "      <td>수요일</td>\n",
       "      <td>531886</td>\n",
       "    </tr>\n",
       "    <tr>\n",
       "      <th>3</th>\n",
       "      <td>목요일</td>\n",
       "      <td>556533</td>\n",
       "    </tr>\n",
       "    <tr>\n",
       "      <th>4</th>\n",
       "      <td>금요일</td>\n",
       "      <td>676139</td>\n",
       "    </tr>\n",
       "    <tr>\n",
       "      <th>5</th>\n",
       "      <td>토요일</td>\n",
       "      <td>745587</td>\n",
       "    </tr>\n",
       "    <tr>\n",
       "      <th>6</th>\n",
       "      <td>일요일</td>\n",
       "      <td>727099</td>\n",
       "    </tr>\n",
       "  </tbody>\n",
       "</table>\n",
       "</div>"
      ],
      "text/plain": [
       "    요일     배달량\n",
       "0  월요일  524387\n",
       "1  화요일  510065\n",
       "2  수요일  531886\n",
       "3  목요일  556533\n",
       "4  금요일  676139\n",
       "5  토요일  745587\n",
       "6  일요일  727099"
      ]
     },
     "execution_count": 81,
     "metadata": {},
     "output_type": "execute_result"
    }
   ],
   "source": [
    "day_df"
   ]
  },
  {
   "cell_type": "code",
   "execution_count": 82,
   "id": "802e59aa",
   "metadata": {},
   "outputs": [],
   "source": [
    "time_df = pd.DataFrame(columns=[\"시간대\",\"배달량\"])\n",
    "for time in times:\n",
    "    time_df.loc[len(time_df)] = [time, pd2[(pd2[\"시간대\"]==time)].shape[0]]"
   ]
  },
  {
   "cell_type": "code",
   "execution_count": 83,
   "id": "97470711",
   "metadata": {},
   "outputs": [
    {
     "data": {
      "text/html": [
       "<div>\n",
       "<style scoped>\n",
       "    .dataframe tbody tr th:only-of-type {\n",
       "        vertical-align: middle;\n",
       "    }\n",
       "\n",
       "    .dataframe tbody tr th {\n",
       "        vertical-align: top;\n",
       "    }\n",
       "\n",
       "    .dataframe thead th {\n",
       "        text-align: right;\n",
       "    }\n",
       "</style>\n",
       "<table border=\"1\" class=\"dataframe\">\n",
       "  <thead>\n",
       "    <tr style=\"text-align: right;\">\n",
       "      <th></th>\n",
       "      <th>시간대</th>\n",
       "      <th>배달량</th>\n",
       "    </tr>\n",
       "  </thead>\n",
       "  <tbody>\n",
       "    <tr>\n",
       "      <th>0</th>\n",
       "      <td>0</td>\n",
       "      <td>48780</td>\n",
       "    </tr>\n",
       "    <tr>\n",
       "      <th>1</th>\n",
       "      <td>1</td>\n",
       "      <td>23211</td>\n",
       "    </tr>\n",
       "    <tr>\n",
       "      <th>2</th>\n",
       "      <td>2</td>\n",
       "      <td>10667</td>\n",
       "    </tr>\n",
       "    <tr>\n",
       "      <th>3</th>\n",
       "      <td>3</td>\n",
       "      <td>5588</td>\n",
       "    </tr>\n",
       "    <tr>\n",
       "      <th>4</th>\n",
       "      <td>4</td>\n",
       "      <td>4003</td>\n",
       "    </tr>\n",
       "    <tr>\n",
       "      <th>5</th>\n",
       "      <td>5</td>\n",
       "      <td>2427</td>\n",
       "    </tr>\n",
       "    <tr>\n",
       "      <th>6</th>\n",
       "      <td>6</td>\n",
       "      <td>2428</td>\n",
       "    </tr>\n",
       "    <tr>\n",
       "      <th>7</th>\n",
       "      <td>7</td>\n",
       "      <td>3693</td>\n",
       "    </tr>\n",
       "    <tr>\n",
       "      <th>8</th>\n",
       "      <td>8</td>\n",
       "      <td>9252</td>\n",
       "    </tr>\n",
       "    <tr>\n",
       "      <th>9</th>\n",
       "      <td>9</td>\n",
       "      <td>28364</td>\n",
       "    </tr>\n",
       "    <tr>\n",
       "      <th>10</th>\n",
       "      <td>10</td>\n",
       "      <td>94305</td>\n",
       "    </tr>\n",
       "    <tr>\n",
       "      <th>11</th>\n",
       "      <td>11</td>\n",
       "      <td>310255</td>\n",
       "    </tr>\n",
       "    <tr>\n",
       "      <th>12</th>\n",
       "      <td>12</td>\n",
       "      <td>337976</td>\n",
       "    </tr>\n",
       "    <tr>\n",
       "      <th>13</th>\n",
       "      <td>13</td>\n",
       "      <td>256989</td>\n",
       "    </tr>\n",
       "    <tr>\n",
       "      <th>14</th>\n",
       "      <td>14</td>\n",
       "      <td>197877</td>\n",
       "    </tr>\n",
       "    <tr>\n",
       "      <th>15</th>\n",
       "      <td>15</td>\n",
       "      <td>179980</td>\n",
       "    </tr>\n",
       "    <tr>\n",
       "      <th>16</th>\n",
       "      <td>16</td>\n",
       "      <td>225460</td>\n",
       "    </tr>\n",
       "    <tr>\n",
       "      <th>17</th>\n",
       "      <td>17</td>\n",
       "      <td>428396</td>\n",
       "    </tr>\n",
       "    <tr>\n",
       "      <th>18</th>\n",
       "      <td>18</td>\n",
       "      <td>604455</td>\n",
       "    </tr>\n",
       "    <tr>\n",
       "      <th>19</th>\n",
       "      <td>19</td>\n",
       "      <td>528967</td>\n",
       "    </tr>\n",
       "    <tr>\n",
       "      <th>20</th>\n",
       "      <td>20</td>\n",
       "      <td>385051</td>\n",
       "    </tr>\n",
       "    <tr>\n",
       "      <th>21</th>\n",
       "      <td>21</td>\n",
       "      <td>289519</td>\n",
       "    </tr>\n",
       "    <tr>\n",
       "      <th>22</th>\n",
       "      <td>22</td>\n",
       "      <td>193294</td>\n",
       "    </tr>\n",
       "    <tr>\n",
       "      <th>23</th>\n",
       "      <td>23</td>\n",
       "      <td>100759</td>\n",
       "    </tr>\n",
       "  </tbody>\n",
       "</table>\n",
       "</div>"
      ],
      "text/plain": [
       "    시간대     배달량\n",
       "0     0   48780\n",
       "1     1   23211\n",
       "2     2   10667\n",
       "3     3    5588\n",
       "4     4    4003\n",
       "5     5    2427\n",
       "6     6    2428\n",
       "7     7    3693\n",
       "8     8    9252\n",
       "9     9   28364\n",
       "10   10   94305\n",
       "11   11  310255\n",
       "12   12  337976\n",
       "13   13  256989\n",
       "14   14  197877\n",
       "15   15  179980\n",
       "16   16  225460\n",
       "17   17  428396\n",
       "18   18  604455\n",
       "19   19  528967\n",
       "20   20  385051\n",
       "21   21  289519\n",
       "22   22  193294\n",
       "23   23  100759"
      ]
     },
     "execution_count": 83,
     "metadata": {},
     "output_type": "execute_result"
    }
   ],
   "source": [
    "time_df"
   ]
  },
  {
   "cell_type": "markdown",
   "id": "b816ed8a",
   "metadata": {},
   "source": [
    "## 4. 분석결과"
   ]
  },
  {
   "cell_type": "code",
   "execution_count": 84,
   "id": "a59f515a",
   "metadata": {
    "scrolled": true
   },
   "outputs": [
    {
     "data": {
      "image/png": "[encoded data removed]",
      "text/plain": [
       "<Figure size 640x480 with 1 Axes>"
      ]
     },
     "metadata": {},
     "output_type": "display_data"
    }
   ],
   "source": [
    "import matplotlib.pyplot as plt\n",
    "from matplotlib import font_manager, rc\n",
    "\n",
    "font_name = font_manager.FontProperties(fname=\"c:/Windows/Fonts/malgun.ttf\").get_name()\n",
    "rc('font', family=font_name)\n",
    "\n",
    "ax = pd1y_transpose.plot()\n",
    "plt.xlabel('연도')\n",
    "plt.ylabel('거래액')\n",
    "plt.title('연도별 인터넷쇼핑과 모바일쇼핑 거래액')\n",
    "ax.legend()\n",
    "plt.show()"
   ]
  },
  {
   "cell_type": "markdown",
   "id": "909f5113",
   "metadata": {},
   "source": [
    "2017년 ~ 2018년보다는 2018년 ~ 2019년이, 2018년 ~ 2019년보다는 2019년 ~ 2021년에 급격하게 늘어났음을 확인할 수 있으며 2021년~2022년에는 미미한 차이로 증가했습니다."
   ]
  },
  {
   "cell_type": "markdown",
   "id": "f9b6db5a",
   "metadata": {},
   "source": [
    "더 자세히 알아보기 위해 분기별 그래프를 살펴보겠습니다."
   ]
  },
  {
   "cell_type": "code",
   "execution_count": 85,
   "id": "bf2418ec",
   "metadata": {},
   "outputs": [
    {
     "data": {
      "image/png": "[encoded data removed]",
      "text/plain": [
       "<Figure size 640x480 with 1 Axes>"
      ]
     },
     "metadata": {},
     "output_type": "display_data"
    }
   ],
   "source": [
    "\n",
    "ax = pd1q_transpose.plot()\n",
    "plt.xlabel('분기')\n",
    "plt.ylabel('거래액')\n",
    "plt.title('분기별 인터넷쇼핑과 모바일쇼핑 거래액')\n",
    "ax.legend()\n",
    "plt.show()"
   ]
  },
  {
   "cell_type": "markdown",
   "id": "61ce38d2",
   "metadata": {},
   "source": [
    "2020년 2분기에서 4분기,2021년 2분기에서 3분기에 급격하게 상승함을 알 수 있습니다."
   ]
  },
  {
   "cell_type": "code",
   "execution_count": 86,
   "id": "c03f684e",
   "metadata": {},
   "outputs": [
    {
     "data": {
      "image/png": "[encoded data removed]",
      "text/plain": [
       "<Figure size 640x480 with 1 Axes>"
      ]
     },
     "metadata": {},
     "output_type": "display_data"
    }
   ],
   "source": [
    "plt.bar(mean_df['강우여부'], mean_df['배달량'],width=0.3)\n",
    "plt.xlabel('강우여부')\n",
    "plt.ylabel('배달량')\n",
    "plt.title('날씨에 따른 배달량')\n",
    "plt.show()"
   ]
  },
  {
   "cell_type": "markdown",
   "id": "27fc677c",
   "metadata": {},
   "source": [
    "강우여부에 따른 배달량의 평균은 큰 차이가 없습니다"
   ]
  },
  {
   "cell_type": "code",
   "execution_count": 87,
   "id": "1d1d474a",
   "metadata": {},
   "outputs": [
    {
     "data": {
      "image/png": "[encoded data removed]",
      "text/plain": [
       "<Figure size 640x480 with 1 Axes>"
      ]
     },
     "metadata": {},
     "output_type": "display_data"
    }
   ],
   "source": [
    "plt.bar(time_df['시간대'], time_df['배달량'])\n",
    "plt.xlabel('시간대')\n",
    "plt.ylabel('배달량')\n",
    "plt.title('시간대에 따른 배달량')\n",
    "plt.show()"
   ]
  },
  {
   "cell_type": "markdown",
   "id": "2b675d9a",
   "metadata": {},
   "source": [
    "저녁시간대인 17시 ~ 20시까지가 가장 배달량이 많고 그 다음으로는 점심시간대인 11시 ~ 13시인 것을 확인할 수 있습니다."
   ]
  },
  {
   "cell_type": "code",
   "execution_count": 88,
   "id": "35cb4a15",
   "metadata": {},
   "outputs": [
    {
     "data": {
      "image/png": "[encoded data removed]",
      "text/plain": [
       "<Figure size 640x480 with 1 Axes>"
      ]
     },
     "metadata": {},
     "output_type": "display_data"
    }
   ],
   "source": [
    "plt.bar(day_df['요일'], day_df['배달량'])\n",
    "plt.xlabel('요일')\n",
    "plt.ylabel('배달량')\n",
    "plt.title('요일에 따른 배달량')\n",
    "plt.show()\n"
   ]
  },
  {
   "cell_type": "markdown",
   "id": "6e22d80c",
   "metadata": {},
   "source": [
    "평일인 월화수목은 비슷한 수준이고 주말과는 확연히 차이가 나는 것을 볼 수 있습니다.\n",
    "\n",
    "가장 배달량이 많은 요일은 토요일, 일요일, 금요일 순입니다."
   ]
  },
  {
   "cell_type": "markdown",
   "id": "87479759",
   "metadata": {},
   "source": [
    "## 5. 결론"
   ]
  },
  {
   "cell_type": "markdown",
   "id": "a688d8b6",
   "metadata": {},
   "source": [
    "### 1) 코로나 사태 이후 배달 사용량이 급증했을 것이다."
   ]
  },
  {
   "cell_type": "markdown",
   "id": "03fe7f12",
   "metadata": {},
   "source": [
    "대한민국에서 코로나19는 2020년 2월 중순부터 발병하기 시작했으며 3월 쯤 잠시 급증한 후 안정적이다 2020년 12월부터 폭발적으로 급증했습니다."
   ]
  },
  {
   "cell_type": "markdown",
   "id": "03d1638d",
   "metadata": {},
   "source": [
    "코로나 확진이라는 사회적 사건이 일어나고 그 영향이 사람들의 심리에 영향을 끼치고 행동으로 옮겨지는 시간을 고려하면 배달량이 급격히 늘어난 것은 코로나와 연관이 있다는 가설은 타당한 것 같습니다."
   ]
  },
  {
   "cell_type": "markdown",
   "id": "9712c7b8",
   "metadata": {},
   "source": [
    "또한 연도,분기에 상관없이 인터넷 쇼핑의 추이에는 별 다른 변화가 없는 것을 보아 전자기기의 보급, 확산등 다른 사회적배경은 큰 영향을 끼치지 않았음을 추측해볼 수 있습니다. "
   ]
  },
  {
   "cell_type": "markdown",
   "id": "735810dc",
   "metadata": {},
   "source": [
    "### 2) 평일보다는 주말에 사용량이 더 많을 것이다."
   ]
  },
  {
   "cell_type": "markdown",
   "id": "1ef62722",
   "metadata": {},
   "source": [
    "그래프에서도 확인할 수 있듯이 평일과 주말의 차이는 유의미합니다."
   ]
  },
  {
   "cell_type": "markdown",
   "id": "3c1c2b65",
   "metadata": {},
   "source": [
    "다만 금요일은 평일임에도 불구하고 주말과 비슷하게 높은 배달량을 기록하고 있습니다."
   ]
  },
  {
   "cell_type": "markdown",
   "id": "840963f0",
   "metadata": {},
   "source": [
    "다음 날이 주말이라는 특성상 금요일 오후(퇴근후,하교후)부터는 휴일이라고 생각하는 현대인들의 사고가 반영된 결과값인 것 같습니다."
   ]
  },
  {
   "cell_type": "markdown",
   "id": "cf77751a",
   "metadata": {},
   "source": [
    "### 3) 배달 사용량은 날씨에 영향을 받을 것이다."
   ]
  },
  {
   "cell_type": "markdown",
   "id": "3555ea41",
   "metadata": {},
   "source": [
    "비가 오면 배달을 시켜먹는 사람이 늘어날 것이라는 가설과 다르게 막대그래프를 살펴보면 평균값이 비슷합니다."
   ]
  },
  {
   "cell_type": "markdown",
   "id": "480f4a0c",
   "metadata": {},
   "source": [
    "따라서 배달 사용량은 날씨에 영향을 받지 않습니다."
   ]
  },
  {
   "cell_type": "markdown",
   "id": "c6374007",
   "metadata": {},
   "source": [
    "다만, 비가 오면 배달대행업체에서 자체적으로 주문을 거부하는 경우가 많다는 것을 생각하면 소비자들이 비오는 날에 배달을 선호하는 것이 완전히 틀린 것만은 아닌 것 같습니다."
   ]
  },
  {
   "cell_type": "markdown",
   "id": "9a018ca9",
   "metadata": {},
   "source": [
    "## 6. 참고문헌 및 데이터 출처"
   ]
  },
  {
   "cell_type": "markdown",
   "id": "78c6a14b",
   "metadata": {},
   "source": [
    "-유튜브 \n",
    "\n",
    "[[프로젝트발표영상] 배달 매출 예측 분석] (https://www.youtube.com/watch?v=ukeIsaagLBI)\n",
    "\n",
    "-위키독스 (https://wikidocs.net/book/5011)\n",
    "\n",
    "[16. Matplotlib 막대 그래프 그리기]\n",
    "[34. Matplotlib 두 종류의 그래프 그리기]\n",
    "\n",
    "-티스토리\n",
    "\n",
    "[[판다스, pandas] 행 열 전환(transpose) - 컴공생의 다이어리] (https://computer-science-student.tistory.com/158)\n",
    "\n",
    "[[파이썬/matplotlib] 선 그래프 그리기 + 테마 (스타일 시트) 설정] (https://benn.tistory.com/33)\n",
    "\n",
    "[[데이터 불러오기] read_csv에서 컬럼 지정해서 ... - whdgus928] (https://whdgus928.tistory.com/4)\n",
    "\n",
    "[파이썬(python) 합계 구하기, sum 함수 이용 - 티스토리] (https://qwertyuioop.tistory.com/entry/%ED%8C%8C%EC%9D%B4%EC%8D%ACpython-%ED%95%A9%EA%B3%84-%EA%B5%AC%ED%95%98%EA%B8%B0-sum-%ED%95%A8%EC%88%98-%EC%9D%B4%EC%9A%A9)\n",
    "\n",
    "-챗지피티"
   ]
  },
  {
   "cell_type": "markdown",
   "id": "3109f97a",
   "metadata": {},
   "source": [
    "## 7. 별첨"
   ]
  },
  {
   "cell_type": "markdown",
   "id": "5a94d611",
   "metadata": {},
   "source": [
    "-통계청 [온라인쇼핑몰_판매매체별_상품군별거래액] (https://kosis.kr/statHtml/statHtml.do?orgId=101&tblId=DT_1KE10071)\n",
    "\n",
    "-KT_통신_빅데이터_플랫폼 [날씨별 배달 품목차이] (https://bdp.kt.co.kr/invoke/SOKBP2603/?goodsCode=KGUWTHRDLVRDF)\n",
    "\n",
    "-KT_통신_빅데이터_플랫폼 [지역-요일 배달 품목정보] (https://bdp.kt.co.kr/invoke/SOKBP2603/?goodsCode=KGUAREADOITEM)"
   ]
  }
 ],
 "metadata": {
  "kernelspec": {
   "display_name": "Python 3 (ipykernel)",
   "language": "python",
   "name": "python3"
  },
  "language_info": {
   "codemirror_mode": {
    "name": "ipython",
    "version": 3
   },
   "file_extension": ".py",
   "mimetype": "text/x-python",
   "name": "python",
   "nbconvert_exporter": "python",
   "pygments_lexer": "ipython3",
   "version": "3.9.13"
  }
 },
 "nbformat": 4,
 "nbformat_minor": 5
}
